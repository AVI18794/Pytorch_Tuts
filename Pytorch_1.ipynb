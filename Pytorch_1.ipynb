{
  "nbformat": 4,
  "nbformat_minor": 0,
  "metadata": {
    "colab": {
      "name": "Pytorch_1.ipynb",
      "provenance": [],
      "authorship_tag": "ABX9TyNr6SvqCZMoU2z/glj5N9Hq",
      "include_colab_link": true
    },
    "kernelspec": {
      "name": "python3",
      "display_name": "Python 3"
    },
    "language_info": {
      "name": "python"
    }
  },
  "cells": [
    {
      "cell_type": "markdown",
      "metadata": {
        "id": "view-in-github",
        "colab_type": "text"
      },
      "source": [
        "<a href=\"https://colab.research.google.com/github/AVI18794/Pytorch_Tuts/blob/main/Pytorch_1.ipynb\" target=\"_parent\"><img src=\"https://colab.research.google.com/assets/colab-badge.svg\" alt=\"Open In Colab\"/></a>"
      ]
    },
    {
      "cell_type": "markdown",
      "metadata": {
        "id": "pzkDqq3DvrGp"
      },
      "source": [
        "#Pytorch Basics: Tensors & Gradients"
      ]
    },
    {
      "cell_type": "code",
      "metadata": {
        "colab": {
          "base_uri": "https://localhost:8080/"
        },
        "id": "eDOxSTqLnshD",
        "outputId": "f116eb78-9f3b-45aa-a519-bcf966f164a1"
      },
      "source": [
        "# !pip install torch"
      ],
      "execution_count": 1,
      "outputs": [
        {
          "output_type": "stream",
          "text": [
            "Requirement already satisfied: torch in /usr/local/lib/python3.7/dist-packages (1.8.1+cu101)\n",
            "Requirement already satisfied: numpy in /usr/local/lib/python3.7/dist-packages (from torch) (1.19.5)\n",
            "Requirement already satisfied: typing-extensions in /usr/local/lib/python3.7/dist-packages (from torch) (3.7.4.3)\n"
          ],
          "name": "stdout"
        }
      ]
    },
    {
      "cell_type": "code",
      "metadata": {
        "id": "fMsiZ21axZ2b"
      },
      "source": [
        "import torch"
      ],
      "execution_count": 2,
      "outputs": []
    },
    {
      "cell_type": "markdown",
      "metadata": {
        "id": "Vs-sEaHBx25U"
      },
      "source": [
        "#Tensors"
      ]
    },
    {
      "cell_type": "code",
      "metadata": {
        "colab": {
          "base_uri": "https://localhost:8080/"
        },
        "id": "xXqCmioBxwt7",
        "outputId": "25f2fd2a-bac8-45a5-fee1-0456d2693510"
      },
      "source": [
        "#Tensors:A tensor is a number , vector, matrix or any n dimensional array.\n",
        "#Lets create a tensor with a single number\n",
        "tensor1 = torch.tensor(4.)\n",
        "tensor1"
      ],
      "execution_count": 4,
      "outputs": [
        {
          "output_type": "execute_result",
          "data": {
            "text/plain": [
              "tensor(4.)"
            ]
          },
          "metadata": {
            "tags": []
          },
          "execution_count": 4
        }
      ]
    },
    {
      "cell_type": "code",
      "metadata": {
        "colab": {
          "base_uri": "https://localhost:8080/"
        },
        "id": "ijUSHSbsyObz",
        "outputId": "771fcb4d-f019-40ec-e3d8-542e423073c7"
      },
      "source": [
        "#Check the data type of the tensor\n",
        "tensor1.dtype"
      ],
      "execution_count": 5,
      "outputs": [
        {
          "output_type": "execute_result",
          "data": {
            "text/plain": [
              "torch.float32"
            ]
          },
          "metadata": {
            "tags": []
          },
          "execution_count": 5
        }
      ]
    },
    {
      "cell_type": "code",
      "metadata": {
        "colab": {
          "base_uri": "https://localhost:8080/"
        },
        "id": "C2EtzoxDyVKC",
        "outputId": "4b7f1c5f-0ae9-453e-f20b-4c188927a6ea"
      },
      "source": [
        "#Vector\n",
        "t2 = torch.tensor([1,2,3,4.])\n",
        "t2"
      ],
      "execution_count": 6,
      "outputs": [
        {
          "output_type": "execute_result",
          "data": {
            "text/plain": [
              "tensor([1., 2., 3., 4.])"
            ]
          },
          "metadata": {
            "tags": []
          },
          "execution_count": 6
        }
      ]
    },
    {
      "cell_type": "code",
      "metadata": {
        "colab": {
          "base_uri": "https://localhost:8080/"
        },
        "id": "Kugf6XcrydWu",
        "outputId": "2b8535df-6684-47a8-d6ea-e153667f8cd4"
      },
      "source": [
        "t2.dtype"
      ],
      "execution_count": 7,
      "outputs": [
        {
          "output_type": "execute_result",
          "data": {
            "text/plain": [
              "torch.float32"
            ]
          },
          "metadata": {
            "tags": []
          },
          "execution_count": 7
        }
      ]
    },
    {
      "cell_type": "code",
      "metadata": {
        "colab": {
          "base_uri": "https://localhost:8080/"
        },
        "id": "Zdw2QFC7ye3e",
        "outputId": "12153125-e1c1-4116-86d0-64923e56c19d"
      },
      "source": [
        "#Matrix\n",
        "t3 = torch.tensor([[1,2],[3,4],[5,6]])\n",
        "t3"
      ],
      "execution_count": 9,
      "outputs": [
        {
          "output_type": "execute_result",
          "data": {
            "text/plain": [
              "tensor([[1, 2],\n",
              "        [3, 4],\n",
              "        [5, 6]])"
            ]
          },
          "metadata": {
            "tags": []
          },
          "execution_count": 9
        }
      ]
    },
    {
      "cell_type": "code",
      "metadata": {
        "colab": {
          "base_uri": "https://localhost:8080/"
        },
        "id": "_3KLS2grypz2",
        "outputId": "bcdda2cb-414b-46fb-cc3e-30f78caaa993"
      },
      "source": [
        "#3 Dimensional Array\n",
        "t4 = torch.tensor([\n",
        "                   [[11,12,13],\n",
        "                    [14,15,16]],\n",
        "                   [[17,18,19],\n",
        "                    [20,21,22]]\n",
        "                   \n",
        "])\n",
        "\n",
        "t4"
      ],
      "execution_count": 10,
      "outputs": [
        {
          "output_type": "execute_result",
          "data": {
            "text/plain": [
              "tensor([[[11, 12, 13],\n",
              "         [14, 15, 16]],\n",
              "\n",
              "        [[17, 18, 19],\n",
              "         [20, 21, 22]]])"
            ]
          },
          "metadata": {
            "tags": []
          },
          "execution_count": 10
        }
      ]
    },
    {
      "cell_type": "code",
      "metadata": {
        "colab": {
          "base_uri": "https://localhost:8080/"
        },
        "id": "YxLV8HVDzCF9",
        "outputId": "c99d5de2-0afc-4d5d-de20-d87b4e09425e"
      },
      "source": [
        "t4.dtype"
      ],
      "execution_count": 11,
      "outputs": [
        {
          "output_type": "execute_result",
          "data": {
            "text/plain": [
              "torch.int64"
            ]
          },
          "metadata": {
            "tags": []
          },
          "execution_count": 11
        }
      ]
    },
    {
      "cell_type": "code",
      "metadata": {
        "colab": {
          "base_uri": "https://localhost:8080/"
        },
        "id": "fMBbRR-TzEjR",
        "outputId": "0071c3f9-ec86-4030-b1d3-5cbe41f1931b"
      },
      "source": [
        "#Check the shape of the tensors\n",
        "print(tensor1)\n",
        "tensor1.shape"
      ],
      "execution_count": 19,
      "outputs": [
        {
          "output_type": "stream",
          "text": [
            "tensor(4.)\n"
          ],
          "name": "stdout"
        },
        {
          "output_type": "execute_result",
          "data": {
            "text/plain": [
              "torch.Size([])"
            ]
          },
          "metadata": {
            "tags": []
          },
          "execution_count": 19
        }
      ]
    },
    {
      "cell_type": "code",
      "metadata": {
        "colab": {
          "base_uri": "https://localhost:8080/"
        },
        "id": "6Zw9Xv_CzHom",
        "outputId": "35c4a617-0019-45c4-ef9d-e22f73e35e3a"
      },
      "source": [
        "print(t2)\n",
        "t2.shape"
      ],
      "execution_count": 20,
      "outputs": [
        {
          "output_type": "stream",
          "text": [
            "tensor([1., 2., 3., 4.])\n"
          ],
          "name": "stdout"
        },
        {
          "output_type": "execute_result",
          "data": {
            "text/plain": [
              "torch.Size([4])"
            ]
          },
          "metadata": {
            "tags": []
          },
          "execution_count": 20
        }
      ]
    },
    {
      "cell_type": "code",
      "metadata": {
        "colab": {
          "base_uri": "https://localhost:8080/"
        },
        "id": "aKMjHNI-zSlT",
        "outputId": "f061946b-e1d9-45ac-9bbc-767a06cf67a8"
      },
      "source": [
        "print(t3)\n",
        "t3.shape"
      ],
      "execution_count": 21,
      "outputs": [
        {
          "output_type": "stream",
          "text": [
            "tensor([[1, 2],\n",
            "        [3, 4],\n",
            "        [5, 6]])\n"
          ],
          "name": "stdout"
        },
        {
          "output_type": "execute_result",
          "data": {
            "text/plain": [
              "torch.Size([3, 2])"
            ]
          },
          "metadata": {
            "tags": []
          },
          "execution_count": 21
        }
      ]
    },
    {
      "cell_type": "code",
      "metadata": {
        "colab": {
          "base_uri": "https://localhost:8080/"
        },
        "id": "nh_k2NjlzUcr",
        "outputId": "71308fa6-0cd8-4ebd-a9b2-b4593720dd84"
      },
      "source": [
        "print(t4)\n",
        "t4.shape# A tensor of shape 2,2,3  which is nothing but the 2 tensor(matrix) of shape 2,3"
      ],
      "execution_count": 22,
      "outputs": [
        {
          "output_type": "stream",
          "text": [
            "tensor([[[11, 12, 13],\n",
            "         [14, 15, 16]],\n",
            "\n",
            "        [[17, 18, 19],\n",
            "         [20, 21, 22]]])\n"
          ],
          "name": "stdout"
        },
        {
          "output_type": "execute_result",
          "data": {
            "text/plain": [
              "torch.Size([2, 2, 3])"
            ]
          },
          "metadata": {
            "tags": []
          },
          "execution_count": 22
        }
      ]
    },
    {
      "cell_type": "markdown",
      "metadata": {
        "id": "hrBErYfV0TQJ"
      },
      "source": [
        "# Tensor Operations and Gradients"
      ]
    },
    {
      "cell_type": "code",
      "metadata": {
        "id": "MB0VxoVZzYxB"
      },
      "source": [
        "#Creating tensors\n",
        "x = torch.tensor(3.)\n",
        "w= torch.tensor(4.,requires_grad = True)\n",
        "b = torch.tensor(5.,requires_grad=True)\n"
      ],
      "execution_count": 24,
      "outputs": []
    },
    {
      "cell_type": "code",
      "metadata": {
        "colab": {
          "base_uri": "https://localhost:8080/"
        },
        "id": "fUCEE12Z0qLw",
        "outputId": "2c769fd0-a47d-429f-880f-57f9f4c6c7c8"
      },
      "source": [
        "#Arithmetic operations\n",
        "y = w*x+b\n",
        "print(y)"
      ],
      "execution_count": 25,
      "outputs": [
        {
          "output_type": "stream",
          "text": [
            "tensor(17., grad_fn=<AddBackward0>)\n"
          ],
          "name": "stdout"
        }
      ]
    },
    {
      "cell_type": "code",
      "metadata": {
        "id": "8d-nQYun0zhZ"
      },
      "source": [
        "#Compute the derivates\n",
        "y.backward()"
      ],
      "execution_count": 26,
      "outputs": []
    },
    {
      "cell_type": "code",
      "metadata": {
        "colab": {
          "base_uri": "https://localhost:8080/"
        },
        "id": "UhRaqhK908O3",
        "outputId": "8dec9903-1f95-41ff-eb23-87045aac1043"
      },
      "source": [
        "#Display the gradients\n",
        "print('dy/dx',x.grad)\n",
        "print('dy/dw',w.grad)\n",
        "print('dy/db',b.grad)"
      ],
      "execution_count": 27,
      "outputs": [
        {
          "output_type": "stream",
          "text": [
            "dy/dx None\n",
            "dy/dw tensor(3.)\n",
            "dy/db tensor(1.)\n"
          ],
          "name": "stdout"
        }
      ]
    },
    {
      "cell_type": "code",
      "metadata": {
        "id": "d5kYecXy1UJc"
      },
      "source": [
        ""
      ],
      "execution_count": null,
      "outputs": []
    }
  ]
}