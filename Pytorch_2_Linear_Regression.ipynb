{
  "nbformat": 4,
  "nbformat_minor": 0,
  "metadata": {
    "colab": {
      "name": "Pytorch_2 Linear Regression.ipynb",
      "provenance": [],
      "authorship_tag": "ABX9TyNDsqZzc+GnOy4d9cV2/O0H",
      "include_colab_link": true
    },
    "kernelspec": {
      "name": "python3",
      "display_name": "Python 3"
    },
    "language_info": {
      "name": "python"
    }
  },
  "cells": [
    {
      "cell_type": "markdown",
      "metadata": {
        "id": "view-in-github",
        "colab_type": "text"
      },
      "source": [
        "<a href=\"https://colab.research.google.com/github/AVI18794/Pytorch_Tuts/blob/main/Pytorch_2_Linear_Regression.ipynb\" target=\"_parent\"><img src=\"https://colab.research.google.com/assets/colab-badge.svg\" alt=\"Open In Colab\"/></a>"
      ]
    },
    {
      "cell_type": "code",
      "metadata": {
        "id": "Kn6J_7tq_qwS"
      },
      "source": [
        "import torch"
      ],
      "execution_count": 1,
      "outputs": []
    },
    {
      "cell_type": "code",
      "metadata": {
        "id": "-FwJ2yJc_x-r"
      },
      "source": [
        "import numpy as np"
      ],
      "execution_count": 2,
      "outputs": []
    },
    {
      "cell_type": "code",
      "metadata": {
        "id": "yZueIGrXCCci"
      },
      "source": [
        "#Input(temp,rainfall,humidity)\n",
        "inputs = np.array([[73,67,43],\n",
        "                   [91,88,76],\n",
        "                   [98,78,67],\n",
        "                   [78,56,43],\n",
        "                   [89,67,78]],dtype='float32')\n"
      ],
      "execution_count": 3,
      "outputs": []
    },
    {
      "cell_type": "code",
      "metadata": {
        "id": "tmyVfRPkCj4h"
      },
      "source": [
        "#Targets(apples,oranges)\n",
        "targets = np.array([[73,67],\n",
        "                   [91,88],\n",
        "                   [98,78],\n",
        "                   [78,87],\n",
        "                   [89,76]],dtype='float32')"
      ],
      "execution_count": 4,
      "outputs": []
    },
    {
      "cell_type": "code",
      "metadata": {
        "id": "brwfHszSCwez"
      },
      "source": [
        "#Convert the inputs and outputs into tensors\n",
        "inputs= torch.from_numpy(inputs)\n",
        "output = torch.from_numpy(targets)"
      ],
      "execution_count": 5,
      "outputs": []
    },
    {
      "cell_type": "code",
      "metadata": {
        "colab": {
          "base_uri": "https://localhost:8080/"
        },
        "id": "eHbO2q3_C_sr",
        "outputId": "48d3f68d-4ac9-4a35-dbfc-8e25c31440ee"
      },
      "source": [
        "print(inputs)\n",
        "print(output)"
      ],
      "execution_count": 6,
      "outputs": [
        {
          "output_type": "stream",
          "text": [
            "tensor([[73., 67., 43.],\n",
            "        [91., 88., 76.],\n",
            "        [98., 78., 67.],\n",
            "        [78., 56., 43.],\n",
            "        [89., 67., 78.]])\n",
            "tensor([[73., 67.],\n",
            "        [91., 88.],\n",
            "        [98., 78.],\n",
            "        [78., 87.],\n",
            "        [89., 76.]])\n"
          ],
          "name": "stdout"
        }
      ]
    },
    {
      "cell_type": "markdown",
      "metadata": {
        "id": "F1h4uHwjDFyu"
      },
      "source": [
        "#Build a model (Linear Regression)"
      ]
    },
    {
      "cell_type": "code",
      "metadata": {
        "colab": {
          "base_uri": "https://localhost:8080/"
        },
        "id": "fFsazzDkDC3R",
        "outputId": "e7177597-ad69-417d-d4d8-e8314f730bb2"
      },
      "source": [
        "w = torch.randn(2,3,requires_grad=True)\n",
        "b = torch.randn(2,requires_grad=True)\n",
        "print(w)\n",
        "print(b)"
      ],
      "execution_count": 7,
      "outputs": [
        {
          "output_type": "stream",
          "text": [
            "tensor([[ 0.0517,  0.8535,  0.2147],\n",
            "        [-0.3076, -0.5879, -0.6972]], requires_grad=True)\n",
            "tensor([-1.3136,  0.0366], requires_grad=True)\n"
          ],
          "name": "stdout"
        }
      ]
    },
    {
      "cell_type": "code",
      "metadata": {
        "id": "iUuORfTODXl2"
      },
      "source": [
        "def model(x):\n",
        "  return x @ w.t() + b\n"
      ],
      "execution_count": 8,
      "outputs": []
    },
    {
      "cell_type": "code",
      "metadata": {
        "colab": {
          "base_uri": "https://localhost:8080/"
        },
        "id": "vsGNE_D3D9F5",
        "outputId": "a26b3110-db57-4ea4-c95e-b60ae09d65c6"
      },
      "source": [
        "#Generate predictions\n",
        "preds = model(inputs)\n",
        "print(preds)"
      ],
      "execution_count": 9,
      "outputs": [
        {
          "output_type": "stream",
          "text": [
            "tensor([[  68.8728,  -91.7907],\n",
            "        [  94.8102, -132.6831],\n",
            "        [  84.7053, -122.6816],\n",
            "        [  59.7431,  -86.8613],\n",
            "        [  77.2134, -121.1155]], grad_fn=<AddBackward0>)\n"
          ],
          "name": "stdout"
        }
      ]
    },
    {
      "cell_type": "code",
      "metadata": {
        "colab": {
          "base_uri": "https://localhost:8080/"
        },
        "id": "Bcw0c6DCEEjj",
        "outputId": "c85988dd-14ba-4a66-f524-86e62fd8d46f"
      },
      "source": [
        "#Compare it with target\n",
        "print(output)"
      ],
      "execution_count": 10,
      "outputs": [
        {
          "output_type": "stream",
          "text": [
            "tensor([[73., 67.],\n",
            "        [91., 88.],\n",
            "        [98., 78.],\n",
            "        [78., 87.],\n",
            "        [89., 76.]])\n"
          ],
          "name": "stdout"
        }
      ]
    },
    {
      "cell_type": "code",
      "metadata": {
        "id": "UqNKNwOaEIc9"
      },
      "source": [
        "#Compare the model performance\n",
        "def MSE(t1,t2):\n",
        "  diff = t1-t2\n",
        "  return torch.sum(diff*diff)/diff.numel()"
      ],
      "execution_count": 11,
      "outputs": []
    },
    {
      "cell_type": "code",
      "metadata": {
        "colab": {
          "base_uri": "https://localhost:8080/"
        },
        "id": "DF_VNxbpEkT5",
        "outputId": "3c9cf13f-aa6f-487a-d1a0-c2f6f178704e"
      },
      "source": [
        "#Compute the loss\n",
        "loss = MSE(preds,output)\n",
        "print(loss)"
      ],
      "execution_count": 12,
      "outputs": [
        {
          "output_type": "stream",
          "text": [
            "tensor(18395.1445, grad_fn=<DivBackward0>)\n"
          ],
          "name": "stdout"
        }
      ]
    },
    {
      "cell_type": "code",
      "metadata": {
        "id": "RuAjWGinErxB"
      },
      "source": [
        "#Compute the gradients\n",
        "loss.backward()"
      ],
      "execution_count": 13,
      "outputs": []
    },
    {
      "cell_type": "code",
      "metadata": {
        "colab": {
          "base_uri": "https://localhost:8080/"
        },
        "id": "DKSjQnXYFL_r",
        "outputId": "284dad33-6437-4777-c236-998f12108606"
      },
      "source": [
        "#Gradients for weights\n",
        "print(w)\n",
        "print(w.grad)"
      ],
      "execution_count": 14,
      "outputs": [
        {
          "output_type": "stream",
          "text": [
            "tensor([[ 0.0517,  0.8535,  0.2147],\n",
            "        [-0.3076, -0.5879, -0.6972]], requires_grad=True)\n",
            "tensor([[  -746.0967,   -558.0599,   -496.6082],\n",
            "        [-16489.0273, -13731.0449, -11979.3262]])\n"
          ],
          "name": "stdout"
        }
      ]
    },
    {
      "cell_type": "code",
      "metadata": {
        "colab": {
          "base_uri": "https://localhost:8080/"
        },
        "id": "vgolC_dJFP5S",
        "outputId": "4f4d61ad-a3b3-47f6-ba2f-1991f320790d"
      },
      "source": [
        "print(b)\n",
        "print(b.grad)"
      ],
      "execution_count": 15,
      "outputs": [
        {
          "output_type": "stream",
          "text": [
            "tensor([-1.3136,  0.0366], requires_grad=True)\n",
            "tensor([  -8.7310, -190.2264])\n"
          ],
          "name": "stdout"
        }
      ]
    },
    {
      "cell_type": "code",
      "metadata": {
        "id": "TJT9KDiaFZcc"
      },
      "source": [
        "#Adjust the weights and reset_gradients\n",
        "with torch.no_grad():\n",
        "  w-=w.grad*1e-5\n",
        "  b-=b.grad*1e-5\n",
        "  w.grad.zero_()\n",
        "  b.grad.zero_()"
      ],
      "execution_count": 16,
      "outputs": []
    },
    {
      "cell_type": "code",
      "metadata": {
        "colab": {
          "base_uri": "https://localhost:8080/"
        },
        "id": "0WQ2BAnRHOtl",
        "outputId": "2712ebb0-b045-4316-fe21-140d99affb29"
      },
      "source": [
        "#now take a look at the new wights and bias\n",
        "print(w)\n",
        "print(b)"
      ],
      "execution_count": 17,
      "outputs": [
        {
          "output_type": "stream",
          "text": [
            "tensor([[ 0.0591,  0.8590,  0.2196],\n",
            "        [-0.1427, -0.4506, -0.5774]], requires_grad=True)\n",
            "tensor([-1.3135,  0.0385], requires_grad=True)\n"
          ],
          "name": "stdout"
        }
      ]
    },
    {
      "cell_type": "code",
      "metadata": {
        "colab": {
          "base_uri": "https://localhost:8080/"
        },
        "id": "IbwZcctlHaLV",
        "outputId": "823e3505-f5d8-4e21-fa4f-0d1a6c6b3b54"
      },
      "source": [
        "#calculat4e the loss\n",
        "pred = model(inputs)\n",
        "loss=MSE(pred,output)\n",
        "print(loss)"
      ],
      "execution_count": 19,
      "outputs": [
        {
          "output_type": "stream",
          "text": [
            "tensor(12844.0742, grad_fn=<DivBackward0>)\n"
          ],
          "name": "stdout"
        }
      ]
    },
    {
      "cell_type": "code",
      "metadata": {
        "id": "TGIZclJVHoCw"
      },
      "source": [
        "#Train for multiple epochs\n",
        "# Train for 100 epochs\n",
        "for i in range(100):\n",
        "    preds = model(inputs)\n",
        "    loss = MSE(preds, output)\n",
        "    loss.backward()\n",
        "    with torch.no_grad():\n",
        "        w -= w.grad * 1e-5\n",
        "        b -= b.grad * 1e-5\n",
        "        w.grad.zero_()\n",
        "        b.grad.zero_()\n",
        " \n",
        " \n"
      ],
      "execution_count": 27,
      "outputs": []
    },
    {
      "cell_type": "code",
      "metadata": {
        "id": "PPOEturOIZpv"
      },
      "source": [
        ""
      ],
      "execution_count": null,
      "outputs": []
    }
  ]
}